{
  "cells": [
    {
      "cell_type": "markdown",
      "metadata": {
        "id": "view-in-github",
        "colab_type": "text"
      },
      "source": [
        "<a href=\"https://colab.research.google.com/github/Ahmad-Dani-Kurniawan/prosaindata/blob/main/tugas1/20-205_Ahmad_Dani_Kurniawan_Crawling_Berita.ipynb\" target=\"_parent\"><img src=\"https://colab.research.google.com/assets/colab-badge.svg\" alt=\"Open In Colab\"/></a>"
      ]
    },
    {
      "cell_type": "code",
      "execution_count": null,
      "metadata": {
        "colab": {
          "base_uri": "https://localhost:8080/"
        },
        "id": "91Nmt5r1T6uc",
        "outputId": "8f7ea0dd-3a5c-4f6f-a123-73ef7c1240ee"
      },
      "outputs": [
        {
          "output_type": "stream",
          "name": "stdout",
          "text": [
            "Looking in indexes: https://pypi.org/simple, https://us-python.pkg.dev/colab-wheels/public/simple/\n",
            "Collecting request2\n",
            "  Downloading request2-0.2.tar.gz (3.2 kB)\n",
            "  Preparing metadata (setup.py) ... \u001b[?25l\u001b[?25hdone\n",
            "Requirement already satisfied: requests in /usr/local/lib/python3.8/dist-packages (from request2) (2.25.1)\n",
            "Requirement already satisfied: urllib3<1.27,>=1.21.1 in /usr/local/lib/python3.8/dist-packages (from requests->request2) (1.26.14)\n",
            "Requirement already satisfied: idna<3,>=2.5 in /usr/local/lib/python3.8/dist-packages (from requests->request2) (2.10)\n",
            "Requirement already satisfied: chardet<5,>=3.0.2 in /usr/local/lib/python3.8/dist-packages (from requests->request2) (4.0.0)\n",
            "Requirement already satisfied: certifi>=2017.4.17 in /usr/local/lib/python3.8/dist-packages (from requests->request2) (2022.12.7)\n",
            "Building wheels for collected packages: request2\n",
            "  Building wheel for request2 (setup.py) ... \u001b[?25l\u001b[?25hdone\n",
            "  Created wheel for request2: filename=request2-0.2-py3-none-any.whl size=1983 sha256=8bd540d8989f1711b551c80289fbac0241d6ff53d42422695d2edc380fc80760\n",
            "  Stored in directory: /root/.cache/pip/wheels/2d/83/ea/7f5ffbb9bdebcb37e8977a6bf39d604bf3a3ef3721ecd4f55a\n",
            "Successfully built request2\n",
            "Installing collected packages: request2\n",
            "Successfully installed request2-0.2\n"
          ]
        }
      ],
      "source": [
        "pip install request2"
      ]
    },
    {
      "cell_type": "code",
      "execution_count": null,
      "metadata": {
        "colab": {
          "base_uri": "https://localhost:8080/"
        },
        "id": "vFz2OS1LUA5L",
        "outputId": "9657af68-37ad-474b-c78d-7a9cfa443042"
      },
      "outputs": [
        {
          "output_type": "stream",
          "name": "stdout",
          "text": [
            "Looking in indexes: https://pypi.org/simple, https://us-python.pkg.dev/colab-wheels/public/simple/\n",
            "Requirement already satisfied: beautifulsoup4 in /usr/local/lib/python3.8/dist-packages (4.6.3)\n"
          ]
        }
      ],
      "source": [
        "pip install beautifulsoup4"
      ]
    },
    {
      "cell_type": "code",
      "execution_count": null,
      "metadata": {
        "colab": {
          "base_uri": "https://localhost:8080/"
        },
        "id": "TWgaR6aSUEOd",
        "outputId": "685e7e56-3ba5-4394-be04-d0d3b76f67e9"
      },
      "outputs": [
        {
          "output_type": "stream",
          "name": "stdout",
          "text": [
            "Looking in indexes: https://pypi.org/simple, https://us-python.pkg.dev/colab-wheels/public/simple/\n",
            "Requirement already satisfied: pandas in /usr/local/lib/python3.8/dist-packages (1.3.5)\n",
            "Requirement already satisfied: python-dateutil>=2.7.3 in /usr/local/lib/python3.8/dist-packages (from pandas) (2.8.2)\n",
            "Requirement already satisfied: pytz>=2017.3 in /usr/local/lib/python3.8/dist-packages (from pandas) (2022.7.1)\n",
            "Requirement already satisfied: numpy>=1.17.3 in /usr/local/lib/python3.8/dist-packages (from pandas) (1.22.4)\n",
            "Requirement already satisfied: six>=1.5 in /usr/local/lib/python3.8/dist-packages (from python-dateutil>=2.7.3->pandas) (1.15.0)\n"
          ]
        }
      ],
      "source": [
        "pip install pandas"
      ]
    },
    {
      "cell_type": "code",
      "execution_count": null,
      "metadata": {
        "colab": {
          "base_uri": "https://localhost:8080/"
        },
        "id": "B6FGoJoZUKgT",
        "outputId": "c1fe1642-a891-4b2e-aeab-c6ad608476f6"
      },
      "outputs": [
        {
          "output_type": "stream",
          "name": "stdout",
          "text": [
            "Looking in indexes: https://pypi.org/simple, https://us-python.pkg.dev/colab-wheels/public/simple/\n",
            "Requirement already satisfied: seaborn in /usr/local/lib/python3.8/dist-packages (0.11.2)\n",
            "Requirement already satisfied: matplotlib>=2.2 in /usr/local/lib/python3.8/dist-packages (from seaborn) (3.5.3)\n",
            "Requirement already satisfied: scipy>=1.0 in /usr/local/lib/python3.8/dist-packages (from seaborn) (1.10.1)\n",
            "Requirement already satisfied: pandas>=0.23 in /usr/local/lib/python3.8/dist-packages (from seaborn) (1.3.5)\n",
            "Requirement already satisfied: numpy>=1.15 in /usr/local/lib/python3.8/dist-packages (from seaborn) (1.22.4)\n",
            "Requirement already satisfied: cycler>=0.10 in /usr/local/lib/python3.8/dist-packages (from matplotlib>=2.2->seaborn) (0.11.0)\n",
            "Requirement already satisfied: packaging>=20.0 in /usr/local/lib/python3.8/dist-packages (from matplotlib>=2.2->seaborn) (23.0)\n",
            "Requirement already satisfied: pillow>=6.2.0 in /usr/local/lib/python3.8/dist-packages (from matplotlib>=2.2->seaborn) (8.4.0)\n",
            "Requirement already satisfied: python-dateutil>=2.7 in /usr/local/lib/python3.8/dist-packages (from matplotlib>=2.2->seaborn) (2.8.2)\n",
            "Requirement already satisfied: kiwisolver>=1.0.1 in /usr/local/lib/python3.8/dist-packages (from matplotlib>=2.2->seaborn) (1.4.4)\n",
            "Requirement already satisfied: pyparsing>=2.2.1 in /usr/local/lib/python3.8/dist-packages (from matplotlib>=2.2->seaborn) (3.0.9)\n",
            "Requirement already satisfied: fonttools>=4.22.0 in /usr/local/lib/python3.8/dist-packages (from matplotlib>=2.2->seaborn) (4.38.0)\n",
            "Requirement already satisfied: pytz>=2017.3 in /usr/local/lib/python3.8/dist-packages (from pandas>=0.23->seaborn) (2022.7.1)\n",
            "Requirement already satisfied: six>=1.5 in /usr/local/lib/python3.8/dist-packages (from python-dateutil>=2.7->matplotlib>=2.2->seaborn) (1.15.0)\n"
          ]
        }
      ],
      "source": [
        "pip install seaborn"
      ]
    },
    {
      "cell_type": "code",
      "execution_count": null,
      "metadata": {
        "id": "z2fpZ0qVZFw6"
      },
      "outputs": [],
      "source": [
        "import requests as req\n",
        "from bs4 import BeautifulSoup as bs\n",
        "from datetime import datetime\n",
        "import csv\n",
        " \n",
        "hades = {'user-agent': 'Mozilla/5.0 (windows NT 10.0; Win64; x64) AppleWebKit/537.36 (KHTML, like Gecko) Chrome/106.0.0.0 Safari/537.36'}"
      ]
    },
    {
      "cell_type": "code",
      "execution_count": null,
      "metadata": {
        "id": "CTIEBDYLdRfl"
      },
      "outputs": [],
      "source": [
        "def scrape_detik(hal):\n",
        "  global hades\n",
        "  a = 1\n",
        "  for page in range(1,hal):\n",
        "    url = f'https://www.detik.com/search/searchall?query=gp+mandalika&sortby=time&page={page}'\n",
        "    ge = req.get(url,hades).text\n",
        "    sop = bs(ge,'lxml')\n",
        "    li = sop.find('div',class_='list media_rows list-berita')\n",
        "    lin = li.find_all('article')\n",
        "    for x in lin:\n",
        "      link = x.find('a')['href']\n",
        "      date = x.find('a').find('span',class_='date').text.replace('WIB','').replace('detiknews','').split(',')[1]\n",
        "      headline = x.find('a').find('h2').text\n",
        "      ge_ = req.get(link,hades).text\n",
        "      sop_ = bs(ge_,'lxml')\n",
        "      content = sop_.find_all('div',class_='detail__body-text itp_bodycontent')\n",
        "      for x in content:\n",
        "        x = x.find_all('p')\n",
        "        y = [y.text for y in x]\n",
        "        content_ = ''.join(y).replace('ADVERTISEMENT', '').replace('SCROLL TO RESUME CONTENT','')\n",
        "        print(f'done[{a}] > {headline[0:150]}')\n",
        "        a += 1\n",
        "        with open('gpmandalika.csv','a')as file:\n",
        "          wr = csv.writer(file, delimiter=',')\n",
        "          wr.writerow([headline,date,link,content_])"
      ]
    },
    {
      "cell_type": "code",
      "execution_count": null,
      "metadata": {
        "colab": {
          "base_uri": "https://localhost:8080/"
        },
        "id": "MTfQ6WjbdRaX",
        "outputId": "5724263d-33f0-4a64-f98f-f0fbc8a5c869"
      },
      "outputs": [
        {
          "output_type": "stream",
          "name": "stdout",
          "text": [
            "done[1] > Juara MotoGP Mandalika 2022 Merasa Masih Jauh dari Potensinya\n",
            "done[2] > Bamsoet Harap Bisa Gelar Balap F1 di Indonesia Tahun Depan\n",
            "done[3] > Mantap! Kerajinan Tangan Khas Desa Tambong Banyuwangi Tembus Pasar Dunia\n",
            "done[4] > Kala MotoGP Mandalika Curi Perhatian Dunia, Termasuk Pawang Hujannya\n",
            "done[5] > Momen Istimewa Maret 2022: MotoGP Gaspol di Mandalika\n",
            "done[6] > Mandalika Tak 'Angker', Ini Sirkuit yang Paling Banyak Bikin Pebalap Jatuh\n",
            "done[7] > Wih! Jumlah Penonton MotoGP Mandalika 2022 Kalahkan Australia, Inggris, hingga Italia\n",
            "done[8] > Sirkuit Pesaing Mandalika Bangkrut! Finlandia Takkan Pernah Gelar MotoGP\n",
            "done[9] > Profil Alvaro Bautista: Dulu Gagal Total di MotoGP, Kini Juara Dunia WSBK!\n",
            "done[10] > Cuaca Ekstrem 'Hantui' KTT G20 Bali, Bakal Ada Pawang Hujan?\n",
            "done[11] > Jelang WSBK Mandalika, Sarung Tangan Vinales sampai Topi Marc Marquez Dilelang\n",
            "done[12] > India dan Kazakhstan Masuk, MotoGP Depak Aragon dari Kalender 2023\n",
            "done[13] > Batik Sasambo SMKN 5 Mataram Tembus Pasar Global, Dikenal sampai Arab\n",
            "done[14] > Singgung MotoGP Mandalika, Bos Dorna Tolak Wacana Hapus Moto2 dan Moto3\n",
            "done[15] > Bukan Mandalika, Ini Sirkuit yang Jadi Tuan Rumah Pembuka MotoGP 2023\n",
            "done[16] > Abu-abu Dugaan Gratifikasi Lili Pintauli Bila Dewas KPK Tak Ambil Aksi\n",
            "done[17] > Casey Stoner: Kejuaraan MotoGP Tanpa Rossi Tak Berubah, tapi...\n",
            "done[18] > Penonton MotoGP Mulai Turun? Bos Dorna: di Indonesia Semua Penuh\n",
            "done[19] > Produk UMKM Ini Bikin Sandiaga Takjub\n",
            "done[20] > Formula E Jakarta Usai, Zita PAN Sedih Tak Lihat Sponsor BUMN\n",
            "done[21] > Beda Proposal Sponsor BUMN buat Formula E dan GP Mandalika\n",
            "done[22] > Mario Aji Raih Poin Penting di Moto3 Mugello\n",
            "done[23] > Waasops Kasal Pimpin Kegiatan Staf Meeting The 16th ANCM di Benoa\n",
            "done[24] > Bamsoet Pastikan IMI Siap Gelar MiniGP Indonesia Series 2022\n",
            "done[25] > Tim Moto GP Gresini Racing Kibarkan Sayap di Indonesia\n",
            "done[26] > Mantap! MS GLOW For MEN Jadi Sponsor Baru MotoGP Gresini Racing\n",
            "done[27] > Akibat Jadwal Padat, MotoGP Ubah Program Tes Pramusim 2023\n",
            "done[28] > FP3 MotoGP Portugal: Marquez Crash, Oliveira Tercepat\n",
            "done[29] > Punya Catatan Oke di Portimao, Bagnaia Antusias Menuju MotoGP Portugal\n",
            "done[30] > Masa Depan Cerah, Rider 17 Tahun Ini Jadi Rebutan Tim Pabrikan MotoGP\n",
            "done[31] > Mejan di MotoGP, Tim Satelit Yamaha Razlan Razali Bisa Diganti Tim Valentino Rossi\n",
            "done[32] > IMI Incar WRC di Danau Toba, Pemerintah Diharapkan Mendukung\n",
            "done[33] > MotoGP Dikuasai Pabrikan Eropa; Pebalap Honda, Yamaha, Suzuki Belum Sanggup Jadi Juara\n",
            "done[34] > PAN Dukung Tiket Formula E Murah: Sayang Jika Tuan Rumah Nonton dari TV\n",
            "done[35] > Marc Marquez: Juara MotoGP Amerika Serikat? Mungkin Saja, tapi...\n",
            "done[36] > Marquez: MotoGP Mandalika Balapan Terburuk dalam Karierku\n",
            "done[37] > Ingin Anak Laki-laki, Roro Fitria Siapkan Nama Terinspirasi Motor Listrik\n",
            "done[38] > Fix! Marc Marquez Balapan Lagi, Target Nggak Muluk-muluk Dulu\n",
            "done[39] > Kondisi Membaik, Marc Marquez Meluncur ke Austin!\n",
            "done[40] > Motor Ducati Mulai Sesuai Harapan Bagnaia\n",
            "done[41] > Sandiaga Ingin Berdayakan Sineas dengan Kompetisi dan Fasilitas\n",
            "done[42] > Heboh Meme Tanggapan Lesti Kejora, Rizky Billar Lakukan Hal Ini\n",
            "done[43] > Fabio Quartararo: MotoGP Argentina yang Tersulit Tahun Ini\n",
            "done[44] > Mengenal Gresini Racing, Tim MotoGP yang 'Indonesia' Banget\n",
            "done[45] > Mengenal Gresini Racing, Tim MotoGP yang 'Indonesia' Banget\n",
            "done[46] > Bos Honda Damprat Michelin Terkait Kecelakaan Marquez di Sirkuit Mandalika\n",
            "done[47] > Banyak yang Nggak Sadar, Ini Alasan Yamaha Pakai Velg Krom di Mandalika\n",
            "done[48] > PDIP Kritik Keras Target Penonton Formula E Merosot dari 90 Ribu ke 10 Ribu\n",
            "done[49] > Hensat Kritik soal Urun Dana Warga untuk IKN: Emang Nggak Ada Uang\n",
            "done[50] > Wagub DKI: Formula E Tak Mungkin Untung di Tahun Pertama\n",
            "done[51] > Roy Suryo soal MotoGP Mandalika Dibandingkan Formula E: Nggak Apple to Apple\n",
            "done[52] > Politikus PDIP Sebut Formula E Jadi Proyek Gengsi Anies\n",
            "done[53] > Vinales Nggak Ngeluh di MotoGP Mandalika: Hari Terbaik Sejak Gabung Aprilia\n",
            "done[54] > Gimmick Marketing Jempolan di Balik Aksi Pawang Hujan MotoGP Mandalika\n",
            "done[55] > Ini Alasan Michelin Bawa Spek Ban yang Dituding Bikin Marquez Crash\n",
            "done[56] > Fabio Quartararo Susah Move On, Masih Aja Posting Soal Indonesia\n",
            "done[57] > MotoGP Mandalika dan \"Branding\" Budaya Indonesia\n",
            "done[58] > Heboh Pawang Hujan di MotoGP Mandalika, Trik Marketing Jempolan?\n",
            "done[59] > Macet Panjang saat GP Mandalika,Â InJourney: Kami Sadar Banyak Kekurangan\n",
            "done[60] > Kenangan Indah Pembalap Mario Aji Raih Poin di Sirkuit Mandalika\n",
            "done[61] > Pawang Hujan Curi Perhatian GP Mandalika, Ternyata Bagian Gimik\n",
            "done[62] > Pembalap Mario Aji Ungkap Kenangan Indah di Mandalika, Apa Itu?\n",
            "done[63] > Gegara Marc Marquez, Nama Angie Ang 'Meledak'\n",
            "done[64] > Michelin Sudah Beri Penjelasan ke Repsol Honda soal Keluhan Ban\n",
            "done[65] > Semoga Marc Marquez Bangkit di MotoGP Argentina dan MotoGP AS\n",
            "done[66] > Potensi Mario Aji Bisa Pecahkan Rekor Poin Pebalap Indonesia di Moto3\n",
            "done[67] > Mengingat Cerita Aleix Espargaro yang Kaget dengan 'The Power of Emak-emak'\n",
            "done[68] > Keberuntungan Penonton MotoGP Asal Banyuwangi Dapat Helm Aleix Espargaro\n",
            "done[69] > Pecco Bagnaia Kecewa dengan Hasil MotoGP Mandalika, Motornya Nggak Nurut\n",
            "done[70] > Pro-Kontra Aksi Pawang Hujan di MotoGP Mandalika\n",
            "done[71] > Penonton MotoGP Asal Banyuwangi: Helm Aleix Espargaro Not for Sale!\n",
            "done[72] > Helm Aleix Espargaro Dilempar ke Fans di Mandalika, Berapa Harganya?\n",
            "done[73] > Penonton MotoGP Asal Banyuwangi Dapat Helm Aleix Espargaro: Not for Sale\n",
            "done[74] > Begini Perjuangan Penonton MotoGP Asal Banyuwangi Dapat Helm Aleix Espargaro\n",
            "done[75] > Penonton MotoGP Asal Banyuwangi Beruntung Dapat Helm Aleix Espargaro\n",
            "done[76] > Ini Penonton MotoGP Mandalika yang Beruntung Dapat Helm Aleix Espargaro\n",
            "done[77] > Aksi Pawang Hujan di MotoGP Mandalika dari Hari ke Hari\n"
          ]
        }
      ],
      "source": [
        "scrape_detik(10)"
      ]
    }
  ],
  "metadata": {
    "colab": {
      "provenance": [],
      "authorship_tag": "ABX9TyOhxTcHFMMTD4++9DYcAGW4",
      "include_colab_link": true
    },
    "kernelspec": {
      "display_name": "Python 3",
      "name": "python3"
    },
    "language_info": {
      "name": "python"
    }
  },
  "nbformat": 4,
  "nbformat_minor": 0
}
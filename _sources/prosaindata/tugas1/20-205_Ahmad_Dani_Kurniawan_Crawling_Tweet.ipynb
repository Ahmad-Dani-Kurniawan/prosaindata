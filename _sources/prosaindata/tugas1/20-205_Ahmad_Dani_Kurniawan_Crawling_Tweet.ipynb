{
  "nbformat": 4,
  "nbformat_minor": 0,
  "metadata": {
    "colab": {
      "provenance": [],
      "authorship_tag": "ABX9TyMfAk6qY0dBa6U08avPOunf",
      "include_colab_link": true
    },
    "kernelspec": {
      "name": "python3",
      "display_name": "Python 3"
    },
    "language_info": {
      "name": "python"
    }
  },
  "cells": [
    {
      "cell_type": "markdown",
      "metadata": {
        "id": "view-in-github",
        "colab_type": "text"
      },
      "source": [
        "<a href=\"https://colab.research.google.com/github/Ahmad-Dani-Kurniawan/prosaindata/blob/main/tugas1/20-205_Ahmad_Dani_Kurniawan_Crawling_Tweet.ipynb\" target=\"_parent\"><img src=\"https://colab.research.google.com/assets/colab-badge.svg\" alt=\"Open In Colab\"/></a>"
      ]
    },
    {
      "cell_type": "code",
      "execution_count": null,
      "metadata": {
        "id": "aaVlw5cWgF17"
      },
      "outputs": [],
      "source": [
        "pip install snscrape"
      ]
    },
    {
      "cell_type": "code",
      "source": [
        "pip install pandas"
      ],
      "metadata": {
        "id": "UoG6IRxxgpmz"
      },
      "execution_count": null,
      "outputs": []
    },
    {
      "cell_type": "code",
      "source": [
        "import pandas as pd\n",
        "from tqdm.notebook import tqdm\n",
        "from ipywidgets import FloatProgress"
      ],
      "metadata": {
        "id": "dymufELpgroB"
      },
      "execution_count": null,
      "outputs": []
    },
    {
      "cell_type": "code",
      "source": [
        "import snscrape.modules.twitter as sntwitter"
      ],
      "metadata": {
        "id": "Bi9vP5E7gt8q"
      },
      "execution_count": null,
      "outputs": []
    },
    {
      "cell_type": "code",
      "source": [
        "scraper=sntwitter.TwitterSearchScraper(\"Cak Imin\")\n",
        "tweets=[]\n",
        "n_tweets=700\n",
        "for i, tweet in tqdm(enumerate(scraper.get_items()), total=n_tweets):\n",
        "    data=[\n",
        "        tweet.user.username, \n",
        "        tweet.rawContent, \n",
        "        tweet.user.location,\n",
        "    ]\n",
        "    tweets.append(data)\n",
        "    if i > n_tweets:\n",
        "        break\n",
        "tweet_df=pd.DataFrame(tweets, columns=['@Username','Tweet', 'Lokasi']\n",
        "            )\n",
        "tweet_df.to_csv('Twitter-Cakimin.csv', index=False)"
      ],
      "metadata": {
        "id": "jKzG1EhhgvvI"
      },
      "execution_count": null,
      "outputs": []
    },
    {
      "cell_type": "code",
      "source": [
        "tweet_df.to_csv('Twitter-Cakimin.csv', index=False)"
      ],
      "metadata": {
        "id": "RE6rAVUsgz-Z"
      },
      "execution_count": null,
      "outputs": []
    }
  ]
}
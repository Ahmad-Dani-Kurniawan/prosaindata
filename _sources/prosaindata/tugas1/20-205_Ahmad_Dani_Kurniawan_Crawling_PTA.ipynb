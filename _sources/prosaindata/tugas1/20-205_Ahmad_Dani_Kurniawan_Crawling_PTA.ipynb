{
  "nbformat": 4,
  "nbformat_minor": 0,
  "metadata": {
    "colab": {
      "provenance": [],
      "authorship_tag": "ABX9TyP1OBVxaSZEorb5RDPw02MS",
      "include_colab_link": true
    },
    "kernelspec": {
      "name": "python3",
      "display_name": "Python 3"
    },
    "language_info": {
      "name": "python"
    }
  },
  "cells": [
    {
      "cell_type": "markdown",
      "metadata": {
        "id": "view-in-github",
        "colab_type": "text"
      },
      "source": [
        "<a href=\"https://colab.research.google.com/github/Ahmad-Dani-Kurniawan/prosaindata/blob/main/tugas1/20-205_Ahmad_Dani_Kurniawan_Crawling_PTA.ipynb\" target=\"_parent\"><img src=\"https://colab.research.google.com/assets/colab-badge.svg\" alt=\"Open In Colab\"/></a>"
      ]
    },
    {
      "cell_type": "code",
      "execution_count": null,
      "metadata": {
        "id": "PCH_clvIeXh9"
      },
      "outputs": [],
      "source": [
        "pip install request2"
      ]
    },
    {
      "cell_type": "code",
      "source": [
        "pip install seaborn"
      ],
      "metadata": {
        "id": "pZ6iJtWCfY5b"
      },
      "execution_count": null,
      "outputs": []
    },
    {
      "cell_type": "code",
      "source": [
        "pip install beautifulsoup4"
      ],
      "metadata": {
        "id": "k4o1RBMKfb0d"
      },
      "execution_count": null,
      "outputs": []
    },
    {
      "cell_type": "code",
      "source": [
        "pip install pandas"
      ],
      "metadata": {
        "id": "HrkfiG-zffPm"
      },
      "execution_count": null,
      "outputs": []
    },
    {
      "cell_type": "code",
      "source": [
        "pip install matplotlib"
      ],
      "metadata": {
        "id": "NcgjSsfxfjK-"
      },
      "execution_count": null,
      "outputs": []
    },
    {
      "cell_type": "code",
      "source": [
        "pip install snscrape"
      ],
      "metadata": {
        "id": "skBxix-vfuJk"
      },
      "execution_count": null,
      "outputs": []
    },
    {
      "cell_type": "code",
      "source": [
        "import requests\n",
        "from bs4 import BeautifulSoup\n",
        "import csv\n",
        "import pandas as pd"
      ],
      "metadata": {
        "id": "u4fIm8pJfxFx"
      },
      "execution_count": null,
      "outputs": []
    },
    {
      "cell_type": "code",
      "source": [
        "data = []\n",
        "url = 'https://pta.trunojoyo.ac.id/c_search/byprod/10/'\n",
        "for page in range(1,173):  \n",
        "  req = requests.get(url+str(page))\n",
        "  soup = BeautifulSoup(req.text, 'html.parser')\n",
        "  items = soup.findAll('li', {'data-cat' : '#luxury'})\n",
        "  lengkap = []\n",
        "  for it in items:\n",
        "    isi = it.find('a', 'gray button')['href']\n",
        "    print(isi)\n",
        "    lengkap.append(isi)\n",
        "    url2 = isi\n",
        "    req2 = requests.get(url2)\n",
        "    soup2 = BeautifulSoup(req2.text, 'html.parser')\n",
        "    items2 = soup2.findAll('li', {'data-cat' : '#luxury'})\n",
        "    for t in items2:\n",
        "      nama = t.find('span').text\n",
        "      print(nama)\n",
        "      judul = t.find('a', 'title').text\n",
        "      print(judul)\n",
        "      #abstrak = it.find('p', {'size', '680x220'})\n",
        "      #print(abstrak)\n",
        "      items3 = soup2.findAll('div', {'style' : 'margin: 15px 15px 15px 15px;'})\n",
        "      for i in items3:\n",
        "        absk = i.find('p').text\n",
        "        print(absk)\n",
        "        data.append([nama, judul, absk])\n",
        "pta = pd.DataFrame(data, columns=['penulis','Judul', 'abstrak'])"
      ],
      "metadata": {
        "id": "gLIKHowNf0DV"
      },
      "execution_count": null,
      "outputs": []
    }
  ]
}